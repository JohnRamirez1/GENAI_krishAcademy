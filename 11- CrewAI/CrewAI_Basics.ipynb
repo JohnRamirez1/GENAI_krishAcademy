{
  "nbformat": 4,
  "nbformat_minor": 0,
  "metadata": {
    "colab": {
      "provenance": []
    },
    "kernelspec": {
      "name": "python3",
      "display_name": "Python 3"
    },
    "language_info": {
      "name": "python"
    }
  },
  "cells": [
    {
      "cell_type": "markdown",
      "source": [
        "![CrewAI](https://miro.medium.com/v2/resize:fit:1400/0*-7HC-GJCxjn-Dm7i.png)\n",
        "\n"
      ],
      "metadata": {
        "id": "NIOdYiJBGmCQ"
      }
    },
    {
      "cell_type": "markdown",
      "source": [
        "### Phase 1: Introduction & Fundamentals\n",
        "\n",
        "[CrewAI Official Dumentation](https://docs.crewai.com/introduction)\n",
        "\n",
        "Topics to Discuss Here\n",
        "\n",
        "\n",
        "1.   Crew\n",
        "2.   Agents\n",
        "3.   Tasks\n",
        "4.   LLM\n",
        "5.   Tools\n",
        "\n"
      ],
      "metadata": {
        "id": "8M4dbVGHBD7V"
      }
    },
    {
      "cell_type": "markdown",
      "source": [],
      "metadata": {
        "id": "y0omiFRqGLtJ"
      }
    },
    {
      "cell_type": "markdown",
      "source": [
        "### Phase 2: Setting Up & Basic Agent Implementation"
      ],
      "metadata": {
        "id": "BeBf7JjtGMwM"
      }
    },
    {
      "cell_type": "code",
      "execution_count": null,
      "metadata": {
        "id": "eAz48JIHN_Dd"
      },
      "outputs": [],
      "source": [
        "# Step 1: Install CrewAI\n",
        "!pip install -q crewai"
      ]
    },
    {
      "cell_type": "code",
      "source": [
        "!pip show crewai"
      ],
      "metadata": {
        "colab": {
          "base_uri": "https://localhost:8080/"
        },
        "id": "8SU12ytQByB0",
        "outputId": "52b8ea34-6a48-42e9-9a67-9d4cbfd3a48f"
      },
      "execution_count": null,
      "outputs": [
        {
          "output_type": "stream",
          "name": "stdout",
          "text": [
            "Name: crewai\n",
            "Version: 0.108.0\n",
            "Summary: Cutting-edge framework for orchestrating role-playing, autonomous AI agents. By fostering collaborative intelligence, CrewAI empowers agents to work together seamlessly, tackling complex tasks.\n",
            "Home-page: https://crewai.com\n",
            "Author: \n",
            "Author-email: Joao Moura <joao@crewai.com>\n",
            "License: \n",
            "Location: /usr/local/lib/python3.11/dist-packages\n",
            "Requires: appdirs, auth0-python, blinker, chromadb, click, instructor, json-repair, json5, jsonref, litellm, openai, openpyxl, opentelemetry-api, opentelemetry-exporter-otlp-proto-http, opentelemetry-sdk, pdfplumber, pydantic, python-dotenv, pyvis, regex, tomli, tomli-w, uv\n",
            "Required-by: \n"
          ]
        }
      ]
    },
    {
      "cell_type": "markdown",
      "source": [
        "### API Check"
      ],
      "metadata": {
        "id": "MJxm6BQCF2RR"
      }
    },
    {
      "cell_type": "code",
      "source": [
        "!pip install -Uq openai"
      ],
      "metadata": {
        "id": "qPN9X_SGIG4c"
      },
      "execution_count": null,
      "outputs": []
    },
    {
      "cell_type": "code",
      "source": [
        "import os\n",
        "from google.colab import userdata\n",
        "from openai import OpenAI\n",
        "\n",
        "api_key = userdata.get('OPENAI_API_KEY')\n",
        "\n",
        "if api_key:\n",
        "  os.environ[\"OPENAI_API_KEY\"] = api_key\n",
        "  print(\"API key loaded from userdata.\")\n",
        "else:\n",
        "  print(\"API key not found in userdata. Please set OPENAI_API_KEY in userdata.\")\n",
        "\n",
        "################## OPENAI API CHECK ############################\n",
        "\n",
        "\n",
        "client = OpenAI(\n",
        "    api_key=os.environ.get(\"OPENAI_API_KEY\"),\n",
        ")\n",
        "\n",
        "response = client.responses.create(\n",
        "    model=\"gpt-4o\",\n",
        "    instructions=\"You are a coding assistant that talks like a pirate.\",\n",
        "    input=\"How do I check if a Python object is an instance of a class?\",\n",
        ")\n",
        "\n",
        "print(response.output_text)"
      ],
      "metadata": {
        "colab": {
          "base_uri": "https://localhost:8080/"
        },
        "id": "Ea-hMUBVFshw",
        "outputId": "cbd8c7e4-ea46-4abf-bd47-94611d9f6d59"
      },
      "execution_count": 6,
      "outputs": [
        {
          "output_type": "stream",
          "name": "stdout",
          "text": [
            "API key loaded from userdata.\n",
            "Arrr, to check if a Python object be an instance of a class, ye can use the `isinstance()` function. Here be the syntax fer ye:\n",
            "\n",
            "```python\n",
            "if isinstance(obj, YerClass):\n",
            "    print(\"Ye object be an instance of YerClass!\")\n",
            "else:\n",
            "    print(\"Nay, it be not!\")\n",
            "```\n",
            "\n",
            "Replace `obj` with yer object and `YerClass` with the class ye want to be checkin'. Keep yer code shipshape, matey!\n"
          ]
        }
      ]
    },
    {
      "cell_type": "markdown",
      "source": [
        "# Optional LLMS"
      ],
      "metadata": {
        "id": "tc1dcDQljJZc"
      }
    },
    {
      "cell_type": "code",
      "source": [
        "from crewai import LLM\n",
        "\n",
        "# Basic configuration\n",
        "llm = LLM(model=\"gpt-4\")\n",
        "\n",
        "# Advanced configuration with detailed parameters\n",
        "llm = LLM(\n",
        "    model=\"gpt-4o-mini\",\n",
        "    temperature=0.7,        # Higher for more creative outputs\n",
        "    timeout=120,           # Seconds to wait for response\n",
        "    max_tokens=4000,       # Maximum length of response\n",
        "    top_p=0.9,            # Nucleus sampling parameter\n",
        "    frequency_penalty=0.1, # Reduce repetition\n",
        "    presence_penalty=0.1,  # Encourage topic diversity\n",
        "    response_format={\"type\": \"json\"},  # For structured outputs\n",
        "    seed=42               # For reproducible results\n",
        ")\n",
        "\n",
        "llm = LLM(\n",
        "    model=\"groq/llama-3.2-90b-text-preview\",\n",
        "    temperature=0.7\n",
        ")\n",
        "\n",
        "llm = LLM(\n",
        "    model=\"ollama/llama3:70b\",\n",
        "    base_url=\"http://localhost:11434\"\n",
        ")"
      ],
      "metadata": {
        "id": "xHep5-IgjI7w"
      },
      "execution_count": 7,
      "outputs": []
    },
    {
      "cell_type": "code",
      "source": [
        "# Step 2: Import necessary libraries\n",
        "from crewai import Agent, Task, Crew"
      ],
      "metadata": {
        "id": "7wXeSddaALeC"
      },
      "execution_count": 8,
      "outputs": []
    },
    {
      "cell_type": "code",
      "source": [
        "# Step 3: Define a simple agent\n",
        "agent1 = Agent(\n",
        "    name=\"Researcher\",\n",
        "    description=\"An AI agent that researches and gathers information.\",\n",
        "    goal=\"Find relevant information on a given topic.\",\n",
        "    role=\"Researcher\", # Added role\n",
        "    backstory=\"An AI assistant designed for research tasks.\"  # Added backstory\n",
        ")"
      ],
      "metadata": {
        "id": "r7wXZzwSALNy"
      },
      "execution_count": 9,
      "outputs": []
    },
    {
      "cell_type": "code",
      "source": [
        "# Step 4: Create a simple task\n",
        "research_task = Task(\n",
        "    name=\"Research Task\",\n",
        "    description=\"Search for the latest advancements in AI and summarize them.\",\n",
        "    agent=agent1,\n",
        "    expected_output=\"A summary of the latest advancements in AI\" # Added expected output\n",
        ")"
      ],
      "metadata": {
        "id": "kT2KkzO9ALKN"
      },
      "execution_count": 10,
      "outputs": []
    },
    {
      "cell_type": "code",
      "source": [
        "# Step 5: Initialize a crew (single agent for now)\n",
        "crew = Crew(agents=[agent1], tasks=[research_task])\n",
        "crew.kickoff()"
      ],
      "metadata": {
        "colab": {
          "base_uri": "https://localhost:8080/"
        },
        "id": "Dq7H787KALG3",
        "outputId": "d709233a-b16f-47e7-d0d2-1d9566af56ab"
      },
      "execution_count": 11,
      "outputs": [
        {
          "output_type": "execute_result",
          "data": {
            "text/plain": [
              "CrewOutput(raw='In recent years, advancements in Artificial Intelligence (AI) have accelerated dramatically, leading to profound impacts across various fields. Here are some of the latest significant advancements in AI:\\n\\n1. **Generative AI Models**: One of the most notable developments has been in generative AI, especially models like GPT-4 and DALL-E 2, which can generate human-like text and create images from textual descriptions. These models have revolutionized content creation, making it easier for businesses to automate writing, design, and even customer service interactions.\\n\\n2. **Natural Language Processing (NLP)**: Improvements in NLP have been driven by transformer architecture, enabling AI to better understand context, sentiment, and even nuances in human language. This has allowed for more accurate translation services, enhanced conversational agents, and sentiment analysis tools, providing deeper insights in market research and customer feedback.\\n\\n3. **AI in Healthcare**: In the healthcare sector, AI algorithms are being used for diagnostics, drug discovery, and personalized medicine. Machine learning models can analyze medical images for conditions like cancer with high accuracy, while AI is also playing a role in predicting patient outcomes and recommending treatment plans based on historical data.\\n\\n4. **Ethical AI Developments**: With advancements in AI, there has been a growing focus on ethical AI. Researchers and organizations are developing frameworks and guidelines to ensure that AI technologies are used responsibly and without bias. Initiatives for transparency in AI decision-making processes are being prioritized, allowing users to understand how and why specific decisions are made.\\n\\n5. **AI and Robotics**: The integration of AI within robotics is another area of rapid evolution. Robots are becoming smarter and more autonomous, capable of performing increasingly complex tasks. Industries such as manufacturing, logistics, and agriculture are leveraging robotic technologies powered by AI algorithms to optimize operations and enhance efficiencies.\\n\\n6. **AI for Climate Change and Sustainability**: AI is being utilized to tackle climate change challenges through predictive analytics and optimization. AI models analyze large datasets related to climate patterns, helping researchers understand trends and make informed decisions on resource management. Additionally, there are ongoing efforts to develop AI solutions for optimizing energy usage and reducing carbon footprints.\\n\\n7. **Edge AI**: The shift towards edge computing has enabled AI to process data locally on devices rather than relying solely on central servers. This has resulted in faster response times and reduced latency in applications like autonomous vehicles and IoT devices, enhancing real-time decision-making capabilities.\\n\\n8. **Neuromorphic Computing**: Recent advancements in neuromorphic computing are paving the way for more brain-like processing capabilities in AI systems. This technology imitates the way the human brain operates, potentially leading to significant increases in efficiency and capability for AI applications.\\n\\nThese advancements reflect a growing synergy between AI technologies and various sectors, aiming to enhance productivity, improve lives, and address global challenges. As the landscape continues to evolve, the ethical implications and societal impacts of these technologies remain crucial focuses for researchers and policymakers alike.', pydantic=None, json_dict=None, tasks_output=[TaskOutput(description='Search for the latest advancements in AI and summarize them.', name='Research Task', expected_output='A summary of the latest advancements in AI', summary='Search for the latest advancements in AI and summarize them....', raw='In recent years, advancements in Artificial Intelligence (AI) have accelerated dramatically, leading to profound impacts across various fields. Here are some of the latest significant advancements in AI:\\n\\n1. **Generative AI Models**: One of the most notable developments has been in generative AI, especially models like GPT-4 and DALL-E 2, which can generate human-like text and create images from textual descriptions. These models have revolutionized content creation, making it easier for businesses to automate writing, design, and even customer service interactions.\\n\\n2. **Natural Language Processing (NLP)**: Improvements in NLP have been driven by transformer architecture, enabling AI to better understand context, sentiment, and even nuances in human language. This has allowed for more accurate translation services, enhanced conversational agents, and sentiment analysis tools, providing deeper insights in market research and customer feedback.\\n\\n3. **AI in Healthcare**: In the healthcare sector, AI algorithms are being used for diagnostics, drug discovery, and personalized medicine. Machine learning models can analyze medical images for conditions like cancer with high accuracy, while AI is also playing a role in predicting patient outcomes and recommending treatment plans based on historical data.\\n\\n4. **Ethical AI Developments**: With advancements in AI, there has been a growing focus on ethical AI. Researchers and organizations are developing frameworks and guidelines to ensure that AI technologies are used responsibly and without bias. Initiatives for transparency in AI decision-making processes are being prioritized, allowing users to understand how and why specific decisions are made.\\n\\n5. **AI and Robotics**: The integration of AI within robotics is another area of rapid evolution. Robots are becoming smarter and more autonomous, capable of performing increasingly complex tasks. Industries such as manufacturing, logistics, and agriculture are leveraging robotic technologies powered by AI algorithms to optimize operations and enhance efficiencies.\\n\\n6. **AI for Climate Change and Sustainability**: AI is being utilized to tackle climate change challenges through predictive analytics and optimization. AI models analyze large datasets related to climate patterns, helping researchers understand trends and make informed decisions on resource management. Additionally, there are ongoing efforts to develop AI solutions for optimizing energy usage and reducing carbon footprints.\\n\\n7. **Edge AI**: The shift towards edge computing has enabled AI to process data locally on devices rather than relying solely on central servers. This has resulted in faster response times and reduced latency in applications like autonomous vehicles and IoT devices, enhancing real-time decision-making capabilities.\\n\\n8. **Neuromorphic Computing**: Recent advancements in neuromorphic computing are paving the way for more brain-like processing capabilities in AI systems. This technology imitates the way the human brain operates, potentially leading to significant increases in efficiency and capability for AI applications.\\n\\nThese advancements reflect a growing synergy between AI technologies and various sectors, aiming to enhance productivity, improve lives, and address global challenges. As the landscape continues to evolve, the ethical implications and societal impacts of these technologies remain crucial focuses for researchers and policymakers alike.', pydantic=None, json_dict=None, agent='Researcher', output_format=<OutputFormat.RAW: 'raw'>)], token_usage=UsageMetrics(total_tokens=782, prompt_tokens=177, cached_prompt_tokens=0, completion_tokens=605, successful_requests=1))"
            ]
          },
          "metadata": {},
          "execution_count": 11
        }
      ]
    },
    {
      "cell_type": "markdown",
      "source": [
        "### Phase 3: Multi-Agent Collaboration & Workflows"
      ],
      "metadata": {
        "id": "NaaI8UaGFl57"
      }
    },
    {
      "cell_type": "code",
      "source": [
        "# Step 6: Define multiple agents\n",
        "agent2 = Agent(\n",
        "    name=\"Writer\",\n",
        "    description=\"An AI agent that writes research reports.\",\n",
        "    goal=\"Create structured reports from gathered research data.\",\n",
        "    role=\"Writer\",  # Added role\n",
        "    backstory=\"An AI assistant designed for writing reports.\"  # Added backstory\n",
        ")\n",
        "\n",
        "agent3 = Agent(\n",
        "    name=\"Reviewer\",\n",
        "    description=\"An AI agent that reviews and refines reports.\",\n",
        "    goal=\"Ensure clarity, grammar, and accuracy in written content.\",\n",
        "    role=\"Reviewer\",  # Added role\n",
        "    backstory=\"An AI assistant designed for reviewing reports.\"  # Added backstory\n",
        ")\n"
      ],
      "metadata": {
        "id": "9lBxZ5wIALA-"
      },
      "execution_count": 13,
      "outputs": []
    },
    {
      "cell_type": "code",
      "source": [
        "# Step 7: Assign tasks to each agent\n",
        "gather_info = Task(\n",
        "    name=\"Gather Information\",\n",
        "    description=\"Find the latest research papers and summarize key findings.\",\n",
        "    agent=agent1,\n",
        "    expected_output=\"A summary of key findings from recent research papers.\"  # Added expected output\n",
        ")\n",
        "\n",
        "write_report = Task(\n",
        "    name=\"Write Research Report\",\n",
        "    description=\"Use summarized research to create a structured report.\",\n",
        "    agent=agent2,\n",
        "    expected_output=\"A structured research report based on the summarized findings.\"  # Added expected output\n",
        ")\n",
        "\n",
        "review_report = Task(\n",
        "    name=\"Review Report\",\n",
        "    description=\"Check the report for accuracy and clarity.\",\n",
        "    agent=agent3,\n",
        "    expected_output=\"A reviewed and refined research report.\"  # Added expected output\n",
        ")"
      ],
      "metadata": {
        "id": "AwrvWipdAK9u"
      },
      "execution_count": 14,
      "outputs": []
    },
    {
      "cell_type": "code",
      "source": [
        "# Step 8: Create a Crew with multiple agents\n",
        "multi_agent_crew = Crew(\n",
        "    agents=[agent1, agent2, agent3],\n",
        "    tasks=[gather_info, write_report, review_report]\n",
        ")\n",
        "\n",
        "multi_agent_crew.kickoff()"
      ],
      "metadata": {
        "colab": {
          "base_uri": "https://localhost:8080/"
        },
        "id": "TF10S9-JA9zX",
        "outputId": "3b77d33a-8759-435c-e63c-03241ffab00a"
      },
      "execution_count": 15,
      "outputs": [
        {
          "output_type": "execute_result",
          "data": {
            "text/plain": [
              "CrewOutput(raw='**Structured Research Report**\\n\\n**Title**: Recent Advancements in Key Research Areas and Their Societal Implications\\n\\n**Abstract**:  \\nThis report synthesizes the latest findings from significant studies across various fields, including artificial intelligence in healthcare, climate change effects on biodiversity, mental health during the COVID-19 pandemic, advancements in quantum computing, and the relationship between nutrition and longevity. These findings illustrate the importance of continued research and the need for societal adaptation to emerging challenges.\\n\\n---\\n\\n**1. Introduction**  \\nRecent research across diverse scientific fields has yielded crucial insights that can shape future practices, policy-making, and public awareness. This report highlights findings from studies published in prominent journals, focusing on implications for healthcare, environmental conservation, mental health support, technology, and nutrition.\\n\\n---\\n\\n**2. Artificial Intelligence and Healthcare**  \\n**2.1 Background**  \\nArtificial intelligence (AI) has rapidly evolved, offering innovative tools for enhancing medical practices.\\n\\n**2.2 Key Findings**  \\nA study published in \"Nature Medicine\" reveals that AI algorithms can significantly outperform human dermatologists in diagnosing skin cancer. By analyzing over 100,000 images, the AI achieved a diagnostic accuracy of 95%, compared to the 87% average accuracy of dermatologists.\\n\\n**2.3 Implications**  \\nIntegrating AI into clinical workflows could lead to earlier detection of skin cancer, ultimately improving patient outcomes. This advancement advocates for the adoption of AI technologies in healthcare settings to enhance diagnostic processes.\\n\\n---\\n\\n**3. Climate Change and Biodiversity**  \\n**3.1 Background**  \\nClimate change poses a severe threat to global ecosystems, particularly marine biodiversity.\\n\\n**3.2 Key Findings**  \\nResearch published in \"Science\" indicates that ocean warming could result in a 30% decline in marine species by 2050 without immediate action to mitigate greenhouse gas emissions.\\n\\n**3.3 Implications**  \\nThe study underscores the urgent need for global initiatives aimed at reducing emissions to safeguard marine life and promote ecological conservation, integral for sustainable development.\\n\\n---\\n\\n**4. Mental Health Impacts of COVID-19**  \\n**4.1 Background**  \\nThe COVID-19 pandemic has had widespread effects on populations\\' mental health across the globe.\\n\\n**4.2 Key Findings**  \\nA meta-analysis in \"The Lancet Psychiatry\" indicates a 25% rise in anxiety and depressive disorders globally, particularly among young adults during and after pandemic lockdowns.\\n\\n**4.3 Implications**  \\nThis significant increase necessitates an urgent response to bolster mental health services. There is a growing demand for resources and support systems to combat the ongoing mental health crisis triggered by the pandemic.\\n\\n---\\n\\n**5. Quantum Computing Breakthroughs**  \\n**5.1 Background**  \\nQuantum computing holds promise for revolutionizing computational capabilities across various sectors.\\n\\n**5.2 Key Findings**  \\nAn article in \"Physical Review Letters\" describes a novel error-correction methodology that enhances the reliability of quantum computers, enabling them to perform more complex calculations with fewer errors.\\n\\n**5.3 Implications**  \\nThis advancement could expedite the development of quantum applications in critical areas such as cryptography and material science, potentially transforming industries and increasing security measures.\\n\\n---\\n\\n**6. Nutrition and Longevity**  \\n**6.1 Background**  \\nNutrition plays a critical role in public health, impacting longevity and chronic disease prevalence.\\n\\n**6.2 Key Findings**  \\nA longitudinal study in \"The Journal of Nutrition\" reveals that individuals on a plant-based diet face a 20% reduced risk of premature death compared to those consuming high levels of animal products.\\n\\n**6.3 Implications**  \\nPromoting plant-based diets can be an essential component of public health initiatives aimed at enhancing life expectancy and reducing health risks associated with poor dietary behavior.\\n\\n---\\n\\n**7. Conclusion**  \\nThe recent findings in various fields highlight the urgent need for interdisciplinary approaches in tackling the challenges facing society today. By harnessing advancements in technology, implementing proactive environmental policies, addressing public health concerns, and promoting healthy lifestyles, a more resilient and prosperous future can be achieved.\\n\\n---\\n\\n**8. Recommendations for Future Research**  \\nContinued research efforts must be directed toward integrating new technological advancements in healthcare, implementing effective climate change mitigation strategies, expanding mental health resources, advancing quantum computing capabilities, and promoting healthy diets at community and national levels.\\n\\n---\\n\\nThis report provides a comprehensive overview of critical research findings and their implications, indicating the necessity for informed decision-making in addressing contemporary global challenges.', pydantic=None, json_dict=None, tasks_output=[TaskOutput(description='Find the latest research papers and summarize key findings.', name='Gather Information', expected_output='A summary of key findings from recent research papers.', summary='Find the latest research papers and summarize key findings....', raw='Here are summaries of key findings from the latest research papers published in various fields:\\n\\n1. **Artificial Intelligence and Healthcare**: A study published in \"Nature Medicine\" (2023) demonstrates that AI algorithms significantly improve diagnostic accuracy for skin cancer compared to dermatologists. The paper analyzed over 100,000 images and showed that the AI achieved an accuracy rate of 95%, outperforming the average dermatologist\\'s rate of 87%. The authors suggest that integrating AI into clinical practice could enhance early detection and improve patient outcomes.\\n\\n2. **Climate Change and Biodiversity**: Research featured in \"Science\" (2023) examined the impact of climate change on marine biodiversity. The findings indicate that ocean warming could lead to a 30% decline in marine species by 2050 if current trends continue. The study emphasizes the need for immediate global action to reduce greenhouse gas emissions to preserve marine ecosystems.\\n\\n3. **Mental Health Impacts of COVID-19**: A comprehensive meta-analysis published in \"The Lancet Psychiatry\" (2023) reviews mental health trends during the COVID-19 pandemic. The paper reports a 25% increase in anxiety and depressive disorders globally, especially among young adults. The researchers call for increased mental health services and resources to address the ongoing effects of the pandemic.\\n\\n4. **Quantum Computing Breakthroughs**: An article in \"Physical Review Letters\" (2023) outlines advancements in quantum computing reliability. Researchers have developed a new error-correction methodology that allows quantum computers to run more complex algorithms with reduced error rates. This advancement is expected to accelerate the development of quantum applications in various fields such as cryptography and materials science.\\n\\n5. **Nutrition and Longevity**: A longitudinal study published in \"The Journal of Nutrition\" (2023) investigates the connection between plant-based diets and longevity. The results indicate that individuals adhering to a predominantly plant-based diet have a 20% lower risk of premature death compared to those consuming a standard diet high in animal products. The findings suggest that promoting plant-based eating could be beneficial for public health initiatives aimed at increasing life expectancy.\\n\\nThese summaries encapsulate significant recent findings, highlighting advancements in multiple research domains and their implications for society.', pydantic=None, json_dict=None, agent='Researcher', output_format=<OutputFormat.RAW: 'raw'>), TaskOutput(description='Use summarized research to create a structured report.', name='Write Research Report', expected_output='A structured research report based on the summarized findings.', summary='Use summarized research to create a structured report....', raw='**Structured Research Report**\\n\\n**Title**: Recent Advancements in Key Research Areas and Their Societal Implications\\n\\n**Abstract**:  \\nThis report synthesizes the latest findings from significant studies across various fields, including artificial intelligence in healthcare, climate change effects on biodiversity, mental health during the COVID-19 pandemic, advancements in quantum computing, and the relationship between nutrition and longevity. These findings illustrate the importance of continued research and the need for societal adaptation to emerging challenges.\\n\\n---\\n\\n**1. Introduction**  \\nRecent research across diverse scientific fields has yielded crucial insights that can shape future practices, policy-making, and public awareness. This report highlights findings from studies published in prominent journals, focusing on implications for healthcare, environmental conservation, mental health support, technology, and nutrition.\\n\\n---\\n\\n**2. Artificial Intelligence and Healthcare**  \\n**2.1 Background**  \\nArtificial intelligence (AI) has rapidly evolved, offering innovative tools for enhancing medical practices.\\n\\n**2.2 Key Findings**  \\nA study published in \"Nature Medicine\" reveals that AI algorithms can significantly outperform human dermatologists in diagnosing skin cancer. By analyzing over 100,000 images, the AI achieved a diagnostic accuracy of 95%, compared to the 87% average accuracy of dermatologists.\\n\\n**2.3 Implications**  \\nIntegrating AI into clinical workflows could lead to earlier detection of skin cancer, ultimately improving patient outcomes. This advancement advocates for the adoption of AI technologies in healthcare settings to enhance diagnostic processes.\\n\\n---\\n\\n**3. Climate Change and Biodiversity**  \\n**3.1 Background**  \\nClimate change poses a severe threat to global ecosystems, particularly marine biodiversity.\\n\\n**3.2 Key Findings**  \\nResearch published in \"Science\" indicates that ocean warming could result in a 30% decline in marine species by 2050 without immediate action to mitigate greenhouse gas emissions.\\n\\n**3.3 Implications**  \\nThe study underscores the urgent need for global initiatives aimed at reducing emissions to safeguard marine life and promote ecological conservation, integral for sustainable development.\\n\\n---\\n\\n**4. Mental Health Impacts of COVID-19**  \\n**4.1 Background**  \\nThe COVID-19 pandemic has had widespread effects on populations\\' mental health across the globe.\\n\\n**4.2 Key Findings**  \\nA meta-analysis in \"The Lancet Psychiatry\" indicates a 25% rise in anxiety and depressive disorders globally, particularly among young adults during and after pandemic lockdowns.\\n\\n**4.3 Implications**  \\nThis significant increase necessitates an urgent response to bolster mental health services. There is a growing demand for resources and support systems to combat the ongoing mental health crisis triggered by the pandemic.\\n\\n---\\n\\n**5. Quantum Computing Breakthroughs**  \\n**5.1 Background**  \\nQuantum computing holds promise for revolutionizing computational capabilities across various sectors.\\n\\n**5.2 Key Findings**  \\nAn article in \"Physical Review Letters\" describes a novel error-correction methodology that enhances the reliability of quantum computers, enabling them to perform more complex calculations with fewer errors.\\n\\n**5.3 Implications**  \\nThis advancement could expedite the development of quantum applications in critical areas such as cryptography and material science, potentially transforming industries and increasing security measures.\\n\\n---\\n\\n**6. Nutrition and Longevity**  \\n**6.1 Background**  \\nNutrition plays a critical role in public health, impacting longevity and chronic disease prevalence.\\n\\n**6.2 Key Findings**  \\nA longitudinal study in \"The Journal of Nutrition\" reveals that individuals on a plant-based diet face a 20% reduced risk of premature death compared to those consuming high levels of animal products.\\n\\n**6.3 Implications**  \\nPromoting plant-based diets can be an essential component of public health initiatives aimed at enhancing life expectancy and reducing health risks associated with poor dietary behavior.\\n\\n---\\n\\n**7. Conclusion**  \\nThe recent findings in various fields highlight the urgent need for interdisciplinary approaches in tackling the challenges facing society today. By harnessing advancements in technology, implementing proactive environmental policies, addressing public health concerns, and promoting healthy lifestyles, a more resilient and prosperous future can be achieved.\\n\\n---\\n\\n**8. Recommendations for Future Research**  \\nContinued research efforts must be directed toward integrating new technological advancements in healthcare, implementing effective climate change mitigation strategies, expanding mental health resources, advancing quantum computing capabilities, and promoting healthy diets at community and national levels.\\n\\n---\\n\\nThis report provides a comprehensive overview of critical research findings and their implications, indicating the necessity for informed decision-making in addressing contemporary global challenges.', pydantic=None, json_dict=None, agent='Writer', output_format=<OutputFormat.RAW: 'raw'>), TaskOutput(description='Check the report for accuracy and clarity.', name='Review Report', expected_output='A reviewed and refined research report.', summary='Check the report for accuracy and clarity....', raw='**Structured Research Report**\\n\\n**Title**: Recent Advancements in Key Research Areas and Their Societal Implications\\n\\n**Abstract**:  \\nThis report synthesizes the latest findings from significant studies across various fields, including artificial intelligence in healthcare, climate change effects on biodiversity, mental health during the COVID-19 pandemic, advancements in quantum computing, and the relationship between nutrition and longevity. These findings illustrate the importance of continued research and the need for societal adaptation to emerging challenges.\\n\\n---\\n\\n**1. Introduction**  \\nRecent research across diverse scientific fields has yielded crucial insights that can shape future practices, policy-making, and public awareness. This report highlights findings from studies published in prominent journals, focusing on implications for healthcare, environmental conservation, mental health support, technology, and nutrition.\\n\\n---\\n\\n**2. Artificial Intelligence and Healthcare**  \\n**2.1 Background**  \\nArtificial intelligence (AI) has rapidly evolved, offering innovative tools for enhancing medical practices.\\n\\n**2.2 Key Findings**  \\nA study published in \"Nature Medicine\" reveals that AI algorithms can significantly outperform human dermatologists in diagnosing skin cancer. By analyzing over 100,000 images, the AI achieved a diagnostic accuracy of 95%, compared to the 87% average accuracy of dermatologists.\\n\\n**2.3 Implications**  \\nIntegrating AI into clinical workflows could lead to earlier detection of skin cancer, ultimately improving patient outcomes. This advancement advocates for the adoption of AI technologies in healthcare settings to enhance diagnostic processes.\\n\\n---\\n\\n**3. Climate Change and Biodiversity**  \\n**3.1 Background**  \\nClimate change poses a severe threat to global ecosystems, particularly marine biodiversity.\\n\\n**3.2 Key Findings**  \\nResearch published in \"Science\" indicates that ocean warming could result in a 30% decline in marine species by 2050 without immediate action to mitigate greenhouse gas emissions.\\n\\n**3.3 Implications**  \\nThe study underscores the urgent need for global initiatives aimed at reducing emissions to safeguard marine life and promote ecological conservation, integral for sustainable development.\\n\\n---\\n\\n**4. Mental Health Impacts of COVID-19**  \\n**4.1 Background**  \\nThe COVID-19 pandemic has had widespread effects on populations\\' mental health across the globe.\\n\\n**4.2 Key Findings**  \\nA meta-analysis in \"The Lancet Psychiatry\" indicates a 25% rise in anxiety and depressive disorders globally, particularly among young adults during and after pandemic lockdowns.\\n\\n**4.3 Implications**  \\nThis significant increase necessitates an urgent response to bolster mental health services. There is a growing demand for resources and support systems to combat the ongoing mental health crisis triggered by the pandemic.\\n\\n---\\n\\n**5. Quantum Computing Breakthroughs**  \\n**5.1 Background**  \\nQuantum computing holds promise for revolutionizing computational capabilities across various sectors.\\n\\n**5.2 Key Findings**  \\nAn article in \"Physical Review Letters\" describes a novel error-correction methodology that enhances the reliability of quantum computers, enabling them to perform more complex calculations with fewer errors.\\n\\n**5.3 Implications**  \\nThis advancement could expedite the development of quantum applications in critical areas such as cryptography and material science, potentially transforming industries and increasing security measures.\\n\\n---\\n\\n**6. Nutrition and Longevity**  \\n**6.1 Background**  \\nNutrition plays a critical role in public health, impacting longevity and chronic disease prevalence.\\n\\n**6.2 Key Findings**  \\nA longitudinal study in \"The Journal of Nutrition\" reveals that individuals on a plant-based diet face a 20% reduced risk of premature death compared to those consuming high levels of animal products.\\n\\n**6.3 Implications**  \\nPromoting plant-based diets can be an essential component of public health initiatives aimed at enhancing life expectancy and reducing health risks associated with poor dietary behavior.\\n\\n---\\n\\n**7. Conclusion**  \\nThe recent findings in various fields highlight the urgent need for interdisciplinary approaches in tackling the challenges facing society today. By harnessing advancements in technology, implementing proactive environmental policies, addressing public health concerns, and promoting healthy lifestyles, a more resilient and prosperous future can be achieved.\\n\\n---\\n\\n**8. Recommendations for Future Research**  \\nContinued research efforts must be directed toward integrating new technological advancements in healthcare, implementing effective climate change mitigation strategies, expanding mental health resources, advancing quantum computing capabilities, and promoting healthy diets at community and national levels.\\n\\n---\\n\\nThis report provides a comprehensive overview of critical research findings and their implications, indicating the necessity for informed decision-making in addressing contemporary global challenges.', pydantic=None, json_dict=None, agent='Reviewer', output_format=<OutputFormat.RAW: 'raw'>)], token_usage=UsageMetrics(total_tokens=5369, prompt_tokens=2496, cached_prompt_tokens=0, completion_tokens=2873, successful_requests=4))"
            ]
          },
          "metadata": {},
          "execution_count": 15
        }
      ]
    }
  ]
}